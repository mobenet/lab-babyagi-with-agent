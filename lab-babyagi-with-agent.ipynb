{
 "cells": [
  {
   "cell_type": "markdown",
   "id": "1cdba6f7-142d-4dd2-96f6-a13bb5d978ce",
   "metadata": {},
   "source": [
    "# Lab | BabyAGI with agent\n",
    "\n",
    "**Change the planner objective below by changing the objective and the associated prompts and potential tools and agents - Wear your creativity and AI engineering hats\n",
    "You can't get this wrong!**\n",
    "\n",
    "You would need the OpenAI API KEY and the [SerpAPI KEY](https://serpapi.com/manage-api-keyhttps://serpapi.com/manage-api-key) to run this lab.\n"
   ]
  },
  {
   "cell_type": "markdown",
   "id": "517a9fd4",
   "metadata": {},
   "source": [
    "## BabyAGI with Tools\n",
    "\n",
    "This notebook builds on top of [baby agi](baby_agi.html), but shows how you can swap out the execution chain. The previous execution chain was just an LLM which made stuff up. By swapping it out with an agent that has access to tools, we can hopefully get real reliable information"
   ]
  },
  {
   "cell_type": "markdown",
   "id": "556af556",
   "metadata": {},
   "source": [
    "## Install and Import Required Modules"
   ]
  },
  {
   "cell_type": "code",
   "execution_count": 1,
   "id": "85b7ca88",
   "metadata": {},
   "outputs": [
    {
     "name": "stdout",
     "output_type": "stream",
     "text": [
      "Requirement already satisfied: langchain_community in c:\\users\\lain\\anaconda3\\lib\\site-packages (0.3.27)\n",
      "Collecting langchain_experimental\n",
      "  Downloading langchain_experimental-0.3.4-py3-none-any.whl.metadata (1.7 kB)\n",
      "Requirement already satisfied: langchain_openai in c:\\users\\lain\\anaconda3\\lib\\site-packages (0.3.28)\n",
      "Requirement already satisfied: langchain-core<1.0.0,>=0.3.66 in c:\\users\\lain\\anaconda3\\lib\\site-packages (from langchain_community) (0.3.68)\n",
      "Requirement already satisfied: langchain<1.0.0,>=0.3.26 in c:\\users\\lain\\anaconda3\\lib\\site-packages (from langchain_community) (0.3.26)\n",
      "Requirement already satisfied: SQLAlchemy<3,>=1.4 in c:\\users\\lain\\anaconda3\\lib\\site-packages (from langchain_community) (2.0.34)\n",
      "Requirement already satisfied: requests<3,>=2 in c:\\users\\lain\\anaconda3\\lib\\site-packages (from langchain_community) (2.32.3)\n",
      "Requirement already satisfied: PyYAML>=5.3 in c:\\users\\lain\\anaconda3\\lib\\site-packages (from langchain_community) (6.0.1)\n",
      "Requirement already satisfied: aiohttp<4.0.0,>=3.8.3 in c:\\users\\lain\\anaconda3\\lib\\site-packages (from langchain_community) (3.10.5)\n",
      "Requirement already satisfied: tenacity!=8.4.0,<10,>=8.1.0 in c:\\users\\lain\\anaconda3\\lib\\site-packages (from langchain_community) (8.2.3)\n",
      "Requirement already satisfied: dataclasses-json<0.7,>=0.5.7 in c:\\users\\lain\\anaconda3\\lib\\site-packages (from langchain_community) (0.6.7)\n",
      "Requirement already satisfied: pydantic-settings<3.0.0,>=2.4.0 in c:\\users\\lain\\anaconda3\\lib\\site-packages (from langchain_community) (2.6.1)\n",
      "Requirement already satisfied: langsmith>=0.1.125 in c:\\users\\lain\\anaconda3\\lib\\site-packages (from langchain_community) (0.4.5)\n",
      "Requirement already satisfied: httpx-sse<1.0.0,>=0.4.0 in c:\\users\\lain\\anaconda3\\lib\\site-packages (from langchain_community) (0.4.1)\n",
      "Requirement already satisfied: numpy>=1.26.2 in c:\\users\\lain\\anaconda3\\lib\\site-packages (from langchain_community) (1.26.4)\n",
      "Requirement already satisfied: openai<2.0.0,>=1.86.0 in c:\\users\\lain\\anaconda3\\lib\\site-packages (from langchain_openai) (1.96.0)\n",
      "Requirement already satisfied: tiktoken<1,>=0.7 in c:\\users\\lain\\anaconda3\\lib\\site-packages (from langchain_openai) (0.9.0)\n",
      "Requirement already satisfied: aiohappyeyeballs>=2.3.0 in c:\\users\\lain\\anaconda3\\lib\\site-packages (from aiohttp<4.0.0,>=3.8.3->langchain_community) (2.4.0)\n",
      "Requirement already satisfied: aiosignal>=1.1.2 in c:\\users\\lain\\anaconda3\\lib\\site-packages (from aiohttp<4.0.0,>=3.8.3->langchain_community) (1.2.0)\n",
      "Requirement already satisfied: attrs>=17.3.0 in c:\\users\\lain\\anaconda3\\lib\\site-packages (from aiohttp<4.0.0,>=3.8.3->langchain_community) (23.1.0)\n",
      "Requirement already satisfied: frozenlist>=1.1.1 in c:\\users\\lain\\anaconda3\\lib\\site-packages (from aiohttp<4.0.0,>=3.8.3->langchain_community) (1.4.0)\n",
      "Requirement already satisfied: multidict<7.0,>=4.5 in c:\\users\\lain\\anaconda3\\lib\\site-packages (from aiohttp<4.0.0,>=3.8.3->langchain_community) (6.0.4)\n",
      "Requirement already satisfied: yarl<2.0,>=1.0 in c:\\users\\lain\\anaconda3\\lib\\site-packages (from aiohttp<4.0.0,>=3.8.3->langchain_community) (1.11.0)\n",
      "Requirement already satisfied: marshmallow<4.0.0,>=3.18.0 in c:\\users\\lain\\anaconda3\\lib\\site-packages (from dataclasses-json<0.7,>=0.5.7->langchain_community) (3.26.1)\n",
      "Requirement already satisfied: typing-inspect<1,>=0.4.0 in c:\\users\\lain\\anaconda3\\lib\\site-packages (from dataclasses-json<0.7,>=0.5.7->langchain_community) (0.9.0)\n",
      "Requirement already satisfied: langchain-text-splitters<1.0.0,>=0.3.8 in c:\\users\\lain\\anaconda3\\lib\\site-packages (from langchain<1.0.0,>=0.3.26->langchain_community) (0.3.8)\n",
      "Requirement already satisfied: pydantic<3.0.0,>=2.7.4 in c:\\users\\lain\\anaconda3\\lib\\site-packages (from langchain<1.0.0,>=0.3.26->langchain_community) (2.8.2)\n",
      "Requirement already satisfied: jsonpatch<2.0,>=1.33 in c:\\users\\lain\\anaconda3\\lib\\site-packages (from langchain-core<1.0.0,>=0.3.66->langchain_community) (1.33)\n",
      "Requirement already satisfied: packaging<25,>=23.2 in c:\\users\\lain\\anaconda3\\lib\\site-packages (from langchain-core<1.0.0,>=0.3.66->langchain_community) (24.2)\n",
      "Requirement already satisfied: typing-extensions>=4.7 in c:\\users\\lain\\anaconda3\\lib\\site-packages (from langchain-core<1.0.0,>=0.3.66->langchain_community) (4.11.0)\n",
      "Requirement already satisfied: httpx<1,>=0.23.0 in c:\\users\\lain\\anaconda3\\lib\\site-packages (from langsmith>=0.1.125->langchain_community) (0.27.0)\n",
      "Requirement already satisfied: orjson<4.0.0,>=3.9.14 in c:\\users\\lain\\anaconda3\\lib\\site-packages (from langsmith>=0.1.125->langchain_community) (3.10.16)\n",
      "Requirement already satisfied: requests-toolbelt<2.0.0,>=1.0.0 in c:\\users\\lain\\anaconda3\\lib\\site-packages (from langsmith>=0.1.125->langchain_community) (1.0.0)\n",
      "Requirement already satisfied: zstandard<0.24.0,>=0.23.0 in c:\\users\\lain\\anaconda3\\lib\\site-packages (from langsmith>=0.1.125->langchain_community) (0.23.0)\n",
      "Requirement already satisfied: anyio<5,>=3.5.0 in c:\\users\\lain\\anaconda3\\lib\\site-packages (from openai<2.0.0,>=1.86.0->langchain_openai) (4.2.0)\n",
      "Requirement already satisfied: distro<2,>=1.7.0 in c:\\users\\lain\\anaconda3\\lib\\site-packages (from openai<2.0.0,>=1.86.0->langchain_openai) (1.9.0)\n",
      "Requirement already satisfied: jiter<1,>=0.4.0 in c:\\users\\lain\\anaconda3\\lib\\site-packages (from openai<2.0.0,>=1.86.0->langchain_openai) (0.10.0)\n",
      "Requirement already satisfied: sniffio in c:\\users\\lain\\anaconda3\\lib\\site-packages (from openai<2.0.0,>=1.86.0->langchain_openai) (1.3.0)\n",
      "Requirement already satisfied: tqdm>4 in c:\\users\\lain\\anaconda3\\lib\\site-packages (from openai<2.0.0,>=1.86.0->langchain_openai) (4.66.5)\n",
      "Requirement already satisfied: python-dotenv>=0.21.0 in c:\\users\\lain\\anaconda3\\lib\\site-packages (from pydantic-settings<3.0.0,>=2.4.0->langchain_community) (0.21.0)\n",
      "Requirement already satisfied: charset-normalizer<4,>=2 in c:\\users\\lain\\anaconda3\\lib\\site-packages (from requests<3,>=2->langchain_community) (3.3.2)\n",
      "Requirement already satisfied: idna<4,>=2.5 in c:\\users\\lain\\anaconda3\\lib\\site-packages (from requests<3,>=2->langchain_community) (3.7)\n",
      "Requirement already satisfied: urllib3<3,>=1.21.1 in c:\\users\\lain\\anaconda3\\lib\\site-packages (from requests<3,>=2->langchain_community) (2.2.3)\n",
      "Requirement already satisfied: certifi>=2017.4.17 in c:\\users\\lain\\anaconda3\\lib\\site-packages (from requests<3,>=2->langchain_community) (2025.7.14)\n",
      "Requirement already satisfied: greenlet!=0.4.17 in c:\\users\\lain\\anaconda3\\lib\\site-packages (from SQLAlchemy<3,>=1.4->langchain_community) (3.0.1)\n",
      "Requirement already satisfied: regex>=2022.1.18 in c:\\users\\lain\\anaconda3\\lib\\site-packages (from tiktoken<1,>=0.7->langchain_openai) (2024.9.11)\n",
      "Requirement already satisfied: httpcore==1.* in c:\\users\\lain\\anaconda3\\lib\\site-packages (from httpx<1,>=0.23.0->langsmith>=0.1.125->langchain_community) (1.0.2)\n",
      "Requirement already satisfied: h11<0.15,>=0.13 in c:\\users\\lain\\anaconda3\\lib\\site-packages (from httpcore==1.*->httpx<1,>=0.23.0->langsmith>=0.1.125->langchain_community) (0.14.0)\n",
      "Requirement already satisfied: jsonpointer>=1.9 in c:\\users\\lain\\anaconda3\\lib\\site-packages (from jsonpatch<2.0,>=1.33->langchain-core<1.0.0,>=0.3.66->langchain_community) (2.1)\n",
      "Requirement already satisfied: annotated-types>=0.4.0 in c:\\users\\lain\\anaconda3\\lib\\site-packages (from pydantic<3.0.0,>=2.7.4->langchain<1.0.0,>=0.3.26->langchain_community) (0.6.0)\n",
      "Requirement already satisfied: pydantic-core==2.20.1 in c:\\users\\lain\\anaconda3\\lib\\site-packages (from pydantic<3.0.0,>=2.7.4->langchain<1.0.0,>=0.3.26->langchain_community) (2.20.1)\n",
      "Requirement already satisfied: colorama in c:\\users\\lain\\anaconda3\\lib\\site-packages (from tqdm>4->openai<2.0.0,>=1.86.0->langchain_openai) (0.4.6)\n",
      "Requirement already satisfied: mypy-extensions>=0.3.0 in c:\\users\\lain\\anaconda3\\lib\\site-packages (from typing-inspect<1,>=0.4.0->dataclasses-json<0.7,>=0.5.7->langchain_community) (1.0.0)\n",
      "Downloading langchain_experimental-0.3.4-py3-none-any.whl (209 kB)\n",
      "Installing collected packages: langchain_experimental\n",
      "Successfully installed langchain_experimental-0.3.4\n"
     ]
    }
   ],
   "source": [
    "!pip install langchain_community langchain_experimental langchain_openai"
   ]
  },
  {
   "cell_type": "code",
   "execution_count": 2,
   "id": "c8a354b6",
   "metadata": {
    "tags": []
   },
   "outputs": [],
   "source": [
    "from typing import Optional\n",
    "\n",
    "from langchain.chains import LLMChain\n",
    "from langchain.prompts import PromptTemplate\n",
    "from langchain_experimental.autonomous_agents import BabyAGI\n",
    "from langchain_openai import OpenAI, OpenAIEmbeddings"
   ]
  },
  {
   "cell_type": "markdown",
   "id": "09f70772",
   "metadata": {},
   "source": [
    "## Connect to the Vector Store\n",
    "\n",
    "Depending on what vectorstore you use, this step may look different."
   ]
  },
  {
   "cell_type": "code",
   "execution_count": 8,
   "id": "10d76f65",
   "metadata": {},
   "outputs": [
    {
     "name": "stdout",
     "output_type": "stream",
     "text": [
      "Collecting faiss-cpu\n",
      "  Downloading faiss_cpu-1.11.0.post1-cp312-cp312-win_amd64.whl.metadata (5.1 kB)\n",
      "Requirement already satisfied: numpy<3.0,>=1.25.0 in c:\\users\\lain\\anaconda3\\lib\\site-packages (from faiss-cpu) (1.26.4)\n",
      "Requirement already satisfied: packaging in c:\\users\\lain\\anaconda3\\lib\\site-packages (from faiss-cpu) (24.2)\n",
      "Downloading faiss_cpu-1.11.0.post1-cp312-cp312-win_amd64.whl (14.9 MB)\n",
      "   ---------------------------------------- 0.0/14.9 MB ? eta -:--:--\n",
      "    --------------------------------------- 0.3/14.9 MB ? eta -:--:--\n",
      "   -- ------------------------------------- 1.0/14.9 MB 3.0 MB/s eta 0:00:05\n",
      "   ---- ----------------------------------- 1.6/14.9 MB 2.7 MB/s eta 0:00:05\n",
      "   ---- ----------------------------------- 1.8/14.9 MB 2.3 MB/s eta 0:00:06\n",
      "   ----- ---------------------------------- 2.1/14.9 MB 2.3 MB/s eta 0:00:06\n",
      "   ------- -------------------------------- 2.6/14.9 MB 2.4 MB/s eta 0:00:06\n",
      "   --------- ------------------------------ 3.4/14.9 MB 2.4 MB/s eta 0:00:05\n",
      "   ---------- ----------------------------- 3.9/14.9 MB 2.4 MB/s eta 0:00:05\n",
      "   ----------- ---------------------------- 4.2/14.9 MB 2.4 MB/s eta 0:00:05\n",
      "   ------------ --------------------------- 4.7/14.9 MB 2.4 MB/s eta 0:00:05\n",
      "   -------------- ------------------------- 5.2/14.9 MB 2.4 MB/s eta 0:00:05\n",
      "   --------------- ------------------------ 5.8/14.9 MB 2.3 MB/s eta 0:00:04\n",
      "   ---------------- ----------------------- 6.3/14.9 MB 2.4 MB/s eta 0:00:04\n",
      "   ------------------ --------------------- 6.8/14.9 MB 2.4 MB/s eta 0:00:04\n",
      "   -------------------- ------------------- 7.6/14.9 MB 2.5 MB/s eta 0:00:03\n",
      "   --------------------- ------------------ 8.1/14.9 MB 2.5 MB/s eta 0:00:03\n",
      "   ----------------------- ---------------- 8.7/14.9 MB 2.5 MB/s eta 0:00:03\n",
      "   ------------------------ --------------- 9.2/14.9 MB 2.5 MB/s eta 0:00:03\n",
      "   -------------------------- ------------- 9.7/14.9 MB 2.5 MB/s eta 0:00:03\n",
      "   -------------------------- ------------- 10.0/14.9 MB 2.5 MB/s eta 0:00:02\n",
      "   ---------------------------- ----------- 10.7/14.9 MB 2.5 MB/s eta 0:00:02\n",
      "   ------------------------------ --------- 11.3/14.9 MB 2.5 MB/s eta 0:00:02\n",
      "   ------------------------------- -------- 11.8/14.9 MB 2.5 MB/s eta 0:00:02\n",
      "   -------------------------------- ------- 12.1/14.9 MB 2.5 MB/s eta 0:00:02\n",
      "   --------------------------------- ------ 12.6/14.9 MB 2.4 MB/s eta 0:00:01\n",
      "   ---------------------------------- ----- 12.8/14.9 MB 2.4 MB/s eta 0:00:01\n",
      "   ----------------------------------- ---- 13.4/14.9 MB 2.4 MB/s eta 0:00:01\n",
      "   ------------------------------------- -- 13.9/14.9 MB 2.4 MB/s eta 0:00:01\n",
      "   -------------------------------------- - 14.4/14.9 MB 2.4 MB/s eta 0:00:01\n",
      "   ---------------------------------------- 14.9/14.9 MB 2.4 MB/s eta 0:00:00\n",
      "Installing collected packages: faiss-cpu\n",
      "Successfully installed faiss-cpu-1.11.0.post1\n",
      "Note: you may need to restart the kernel to use updated packages.\n"
     ]
    }
   ],
   "source": [
    "pip install faiss-cpu"
   ]
  },
  {
   "cell_type": "code",
   "execution_count": 11,
   "id": "6c64bd09",
   "metadata": {},
   "outputs": [
    {
     "name": "stdout",
     "output_type": "stream",
     "text": [
      "Collecting google-search-results\n",
      "  Downloading google_search_results-2.4.2.tar.gz (18 kB)\n",
      "  Preparing metadata (setup.py): started\n",
      "  Preparing metadata (setup.py): finished with status 'done'\n",
      "Requirement already satisfied: requests in c:\\users\\lain\\anaconda3\\lib\\site-packages (from google-search-results) (2.32.3)\n",
      "Requirement already satisfied: charset-normalizer<4,>=2 in c:\\users\\lain\\anaconda3\\lib\\site-packages (from requests->google-search-results) (3.3.2)\n",
      "Requirement already satisfied: idna<4,>=2.5 in c:\\users\\lain\\anaconda3\\lib\\site-packages (from requests->google-search-results) (3.7)\n",
      "Requirement already satisfied: urllib3<3,>=1.21.1 in c:\\users\\lain\\anaconda3\\lib\\site-packages (from requests->google-search-results) (2.2.3)\n",
      "Requirement already satisfied: certifi>=2017.4.17 in c:\\users\\lain\\anaconda3\\lib\\site-packages (from requests->google-search-results) (2025.7.14)\n",
      "Building wheels for collected packages: google-search-results\n",
      "  Building wheel for google-search-results (setup.py): started\n",
      "  Building wheel for google-search-results (setup.py): finished with status 'done'\n",
      "  Created wheel for google-search-results: filename=google_search_results-2.4.2-py3-none-any.whl size=32083 sha256=9ec04e0945e820e14ab7be69155fa4dace139e0c3824f7141729159c62f24b78\n",
      "  Stored in directory: c:\\users\\lain\\appdata\\local\\pip\\cache\\wheels\\0c\\47\\f5\\89b7e770ab2996baf8c910e7353d6391e373075a0ac213519e\n",
      "Successfully built google-search-results\n",
      "Installing collected packages: google-search-results\n",
      "Successfully installed google-search-results-2.4.2\n",
      "Note: you may need to restart the kernel to use updated packages.\n"
     ]
    }
   ],
   "source": [
    "\n",
    "pip install google-search-results"
   ]
  },
  {
   "cell_type": "code",
   "execution_count": null,
   "id": "794045d4",
   "metadata": {
    "tags": []
   },
   "outputs": [
    {
     "name": "stdout",
     "output_type": "stream",
     "text": [
      "Note: you may need to restart the kernel to use updated packages.\n"
     ]
    },
    {
     "name": "stderr",
     "output_type": "stream",
     "text": [
      "El sistema no puede encontrar la ruta especificada.\n"
     ]
    }
   ],
   "source": [
    "\n",
    "# %pip install google-search-results > /dev/null\n",
    "from langchain.docstore import InMemoryDocstore\n",
    "from langchain_community.vectorstores import FAISS"
   ]
  },
  {
   "cell_type": "code",
   "execution_count": 5,
   "id": "c4164841-915d-4c60-8a47-3a502a5cf71d",
   "metadata": {
    "tags": []
   },
   "outputs": [],
   "source": [
    "import os\n",
    "from dotenv import load_dotenv, find_dotenv\n",
    "_ = load_dotenv(find_dotenv())\n",
    "\n",
    "OPENAI_API_KEY  = os.getenv('OPENAI_API_KEY')\n",
    "SERPAPI_API_KEY = os.getenv('SERPAPI_API_KEY')"
   ]
  },
  {
   "cell_type": "code",
   "execution_count": 9,
   "id": "6e0305eb",
   "metadata": {
    "tags": []
   },
   "outputs": [
    {
     "name": "stderr",
     "output_type": "stream",
     "text": [
      "`embedding_function` is expected to be an Embeddings object, support for passing in a function will soon be removed.\n"
     ]
    }
   ],
   "source": [
    "# Define your embedding model\n",
    "embeddings_model = OpenAIEmbeddings()\n",
    "# Initialize the vectorstore as empty\n",
    "import faiss\n",
    "\n",
    "embedding_size = 1536\n",
    "index = faiss.IndexFlatL2(embedding_size)\n",
    "vectorstore = FAISS(embeddings_model.embed_query, index, InMemoryDocstore({}), {})"
   ]
  },
  {
   "cell_type": "markdown",
   "id": "0f3b72bf",
   "metadata": {},
   "source": [
    "## Define the Chains\n",
    "\n",
    "BabyAGI relies on three LLM chains:\n",
    "- Task creation chain to select new tasks to add to the list\n",
    "- Task prioritization chain to re-prioritize tasks\n",
    "- Execution Chain to execute the tasks\n",
    "\n",
    "\n",
    "NOTE: in this notebook, the Execution chain will now be an agent."
   ]
  },
  {
   "cell_type": "code",
   "execution_count": 12,
   "id": "b43cd580",
   "metadata": {
    "tags": []
   },
   "outputs": [],
   "source": [
    "from langchain.agents import AgentExecutor, Tool, ZeroShotAgent\n",
    "from langchain.chains import LLMChain\n",
    "from langchain_community.utilities import SerpAPIWrapper\n",
    "from langchain_openai import OpenAI\n",
    "\n",
    "todo_prompt = PromptTemplate.from_template(\n",
    "    \"You are a planner who is an expert at coming up with a todo list for a given objective. Come up with a todo list for this objective: {objective}\"\n",
    ")\n",
    "todo_chain = LLMChain(llm=OpenAI(temperature=0), prompt=todo_prompt)\n",
    "search = SerpAPIWrapper()\n",
    "tools = [\n",
    "    Tool(\n",
    "        name=\"Search\",\n",
    "        func=search.run,\n",
    "        description=\"useful for when you need to answer questions about current events\",\n",
    "    ),\n",
    "    Tool(\n",
    "        name=\"TODO\",\n",
    "        func=todo_chain.run,\n",
    "        description=\"useful for when you need to come up with todo lists. Input: an objective to create a todo list for. Output: a todo list for that objective. Please be very clear what the objective is!\",\n",
    "    ),\n",
    "]\n",
    "\n",
    "\n",
    "prefix = \"\"\"You are an AI who performs one task based on the following objective: {objective}. Take into account these previously completed tasks: {context}.\"\"\"\n",
    "suffix = \"\"\"Question: {task}\n",
    "{agent_scratchpad}\"\"\"\n",
    "prompt = ZeroShotAgent.create_prompt(\n",
    "    tools,\n",
    "    prefix=prefix,\n",
    "    suffix=suffix,\n",
    "    input_variables=[\"objective\", \"task\", \"context\", \"agent_scratchpad\"],\n",
    ")"
   ]
  },
  {
   "cell_type": "code",
   "execution_count": 13,
   "id": "4b00ae2e",
   "metadata": {
    "tags": []
   },
   "outputs": [
    {
     "name": "stderr",
     "output_type": "stream",
     "text": [
      "C:\\Users\\Lain\\AppData\\Local\\Temp\\ipykernel_10148\\3064747660.py:4: LangChainDeprecationWarning: LangChain agents will continue to be supported, but it is recommended for new use cases to be built with LangGraph. LangGraph offers a more flexible and full-featured framework for building agents, including support for tool-calling, persistence of state, and human-in-the-loop workflows. For details, refer to the `LangGraph documentation <https://langchain-ai.github.io/langgraph/>`_ as well as guides for `Migrating from AgentExecutor <https://python.langchain.com/docs/how_to/migrate_agent/>`_ and LangGraph's `Pre-built ReAct agent <https://langchain-ai.github.io/langgraph/how-tos/create-react-agent/>`_.\n",
      "  agent = ZeroShotAgent(llm_chain=llm_chain, allowed_tools=tool_names)\n"
     ]
    }
   ],
   "source": [
    "llm = OpenAI(temperature=0)\n",
    "llm_chain = LLMChain(llm=llm, prompt=prompt)\n",
    "tool_names = [tool.name for tool in tools]\n",
    "agent = ZeroShotAgent(llm_chain=llm_chain, allowed_tools=tool_names)\n",
    "agent_executor = AgentExecutor.from_agent_and_tools(\n",
    "    agent=agent, tools=tools, verbose=True\n",
    ")"
   ]
  },
  {
   "cell_type": "markdown",
   "id": "05ba762e",
   "metadata": {},
   "source": [
    "### Run the BabyAGI\n",
    "\n",
    "Now it's time to create the BabyAGI controller and watch it try to accomplish your objective."
   ]
  },
  {
   "cell_type": "code",
   "execution_count": 14,
   "id": "3d220b69",
   "metadata": {
    "tags": []
   },
   "outputs": [],
   "source": [
    "OBJECTIVE = \"Write a weather report for SF today\""
   ]
  },
  {
   "cell_type": "code",
   "execution_count": 15,
   "id": "3d69899b",
   "metadata": {
    "tags": []
   },
   "outputs": [],
   "source": [
    "# Logging of LLMChains\n",
    "verbose = False\n",
    "# If None, will keep on going forever\n",
    "max_iterations: Optional[int] = 3\n",
    "baby_agi = BabyAGI.from_llm(\n",
    "    llm=llm,\n",
    "    vectorstore=vectorstore,\n",
    "    task_execution_chain=agent_executor,\n",
    "    verbose=verbose,\n",
    "    max_iterations=max_iterations,\n",
    ")"
   ]
  },
  {
   "cell_type": "code",
   "execution_count": 16,
   "id": "f7957b51",
   "metadata": {
    "tags": []
   },
   "outputs": [
    {
     "name": "stderr",
     "output_type": "stream",
     "text": [
      "C:\\Users\\Lain\\AppData\\Local\\Temp\\ipykernel_10148\\3867971396.py:1: LangChainDeprecationWarning: The method `Chain.__call__` was deprecated in langchain 0.1.0 and will be removed in 1.0. Use :meth:`~invoke` instead.\n",
      "  baby_agi({\"objective\": OBJECTIVE})\n"
     ]
    },
    {
     "name": "stdout",
     "output_type": "stream",
     "text": [
      "\u001b[95m\u001b[1m\n",
      "*****TASK LIST*****\n",
      "\u001b[0m\u001b[0m\n",
      "1: Make a todo list\n",
      "\u001b[92m\u001b[1m\n",
      "*****NEXT TASK*****\n",
      "\u001b[0m\u001b[0m\n",
      "1: Make a todo list\n",
      "\n",
      "\n",
      "\u001b[1m> Entering new AgentExecutor chain...\u001b[0m\n",
      "\u001b[32;1m\u001b[1;3mThought: I should use the TODO action to create a todo list\n",
      "Action: TODO\n",
      "Action Input: \"Create a todo list for writing a weather report for SF today\"\u001b[0m\n",
      "Observation: \u001b[33;1m\u001b[1;3m\n",
      "\n",
      "1. Gather all necessary information: Start by collecting all the necessary information for writing a weather report for San Francisco today. This includes current temperature, humidity, wind speed, and any potential weather events.\n",
      "\n",
      "2. Check reliable sources: Make sure to check reliable sources such as the National Weather Service or local news stations for accurate and up-to-date information.\n",
      "\n",
      "3. Determine the format: Decide on the format for the weather report. Will it be a written report, a video, or a combination of both? This will help guide the rest of the process.\n",
      "\n",
      "4. Create an outline: Before diving into writing, create an outline for the weather report. This will help organize the information and ensure all important details are included.\n",
      "\n",
      "5. Start with an attention-grabbing headline: The headline is the first thing readers will see, so make it attention-grabbing and informative. It should give a brief overview of the weather for SF today.\n",
      "\n",
      "6. Write an introduction: The introduction should provide a brief overview of the current weather conditions in San Francisco and any notable events or changes.\n",
      "\n",
      "7. Include relevant data: Use the information gathered in step 1 to provide accurate and relevant data in the weather report. This can include current temperature, humidity, wind speed, and any potential\u001b[0m\n",
      "Thought:\u001b[32;1m\u001b[1;3m I should also consider including any relevant images or graphics to enhance the report\n",
      "Action: TODO\n",
      "Action Input: \"Find and include relevant images or graphics for the weather report\"\u001b[0m\n",
      "Observation: \u001b[33;1m\u001b[1;3m\n",
      "\n",
      "1. Determine the purpose and target audience of the weather report.\n",
      "2. Research and gather relevant images or graphics that align with the purpose and target audience.\n",
      "3. Consider the format and layout of the weather report and how the images or graphics will be incorporated.\n",
      "4. Choose high-quality images or graphics that are visually appealing and enhance the overall presentation of the weather report.\n",
      "5. Ensure that the images or graphics accurately represent the weather conditions being reported.\n",
      "6. Edit and resize images or graphics as needed to fit the layout and format of the weather report.\n",
      "7. Include captions or labels for each image or graphic to provide context and information.\n",
      "8. Consider using a mix of images and graphics, such as maps, charts, and photographs, to provide a comprehensive visual representation of the weather.\n",
      "9. Double-check for any copyright or usage restrictions on the chosen images or graphics.\n",
      "10. Test the weather report with the included images or graphics to ensure they are displayed correctly and enhance the overall presentation.\n",
      "11. Make any necessary adjustments or changes to the images or graphics before finalizing the weather report.\n",
      "12. Save and organize the images or graphics in a designated folder for future use in weather reports.\n",
      "13. Keep track of the sources of the images or graphics for proper attribution.\n",
      "\u001b[0m\n",
      "Thought:\u001b[32;1m\u001b[1;3m I should also proofread and edit the weather report before finalizing it\n",
      "Action: TODO\n",
      "Action Input: \"Proofread and edit the weather report for accuracy and clarity\"\u001b[0m\n",
      "Observation: \u001b[33;1m\u001b[1;3m\n",
      "\n",
      "1. Review the weather report thoroughly to get a general understanding of the content and purpose.\n",
      "2. Check for any spelling or grammatical errors and correct them.\n",
      "3. Verify the accuracy of all the information presented in the report, including temperatures, precipitation, and wind speeds.\n",
      "4. Make sure the report is written in a clear and concise manner, avoiding any confusing or ambiguous language.\n",
      "5. Double-check all data and statistics to ensure they are up-to-date and accurate.\n",
      "6. Pay attention to the formatting and layout of the report, making sure it is visually appealing and easy to read.\n",
      "7. Use reliable sources to fact-check any information that may seem questionable.\n",
      "8. Consider the target audience and make adjustments to the language and tone accordingly.\n",
      "9. Proofread the report multiple times to catch any overlooked errors or inconsistencies.\n",
      "10. Have someone else review the report for a fresh perspective and to catch any mistakes that may have been missed.\n",
      "11. Make necessary revisions and edits based on feedback and suggestions.\n",
      "12. Finalize the report and ensure it is ready for publication or distribution.\u001b[0m\n",
      "Thought:\u001b[32;1m\u001b[1;3m I now know the final answer\n",
      "Final Answer: The final answer is a comprehensive todo list for writing a weather report for San Francisco today, including gathering information, checking reliable sources, determining the format, creating an outline, writing an attention-grabbing headline and introduction, including relevant images or graphics, and proofreading and editing the report before finalizing it.\u001b[0m\n",
      "\n",
      "\u001b[1m> Finished chain.\u001b[0m\n",
      "\u001b[93m\u001b[1m\n",
      "*****TASK RESULT*****\n",
      "\u001b[0m\u001b[0m\n",
      "The final answer is a comprehensive todo list for writing a weather report for San Francisco today, including gathering information, checking reliable sources, determining the format, creating an outline, writing an attention-grabbing headline and introduction, including relevant images or graphics, and proofreading and editing the report before finalizing it.\n",
      "\u001b[95m\u001b[1m\n",
      "*****TASK LIST*****\n",
      "\u001b[0m\u001b[0m\n",
      "1: Determine the best sources for weather information in San Francisco\n",
      "2: Gather information for the weather report\n",
      "3: Check reliable sources for accurate weather data\n",
      "4: Research current weather conditions in San Francisco\n",
      "5: Gather data on temperature, precipitation, and wind speed\n",
      "6: Check for any potential weather alerts or warnings\n",
      "7: Create a timeline for completing the weather report\n",
      "8: Determine the format for the weather report\n",
      "9: Create an outline for the report\n",
      "10: Write an attention-grabbing headline and introduction\n",
      "11: Write a detailed description of the current weather in San Francisco\n",
      "12: Include any relevant historical data or trends\n",
      "13: Include relevant images or graphics in the report\n",
      "14: Proofread and edit the report before finalizing it\n",
      "15: Proofread and edit the report for accuracy and clarity.\n",
      "\u001b[92m\u001b[1m\n",
      "*****NEXT TASK*****\n",
      "\u001b[0m\u001b[0m\n",
      "1: Determine the best sources for weather information in San Francisco\n",
      "\n",
      "\n",
      "\u001b[1m> Entering new AgentExecutor chain...\u001b[0m\n",
      "\u001b[32;1m\u001b[1;3mThought: I should search for a list of reliable sources for weather information in San Francisco\n",
      "Action: Search\n",
      "Action Input: \"best sources for weather information in San Francisco\"\u001b[0m\n",
      "Observation: \u001b[36;1m\u001b[1;3m['NWS Forecast Office San Francisco, CA · Current Hazards. Current Outlooks · Detailed Hazards · Current Conditions. Observations · Buoy Reports · Radar · Local ...', 'I use weather.gov when I just want a quick forecast but supplement that with windy.com and meteoblue.com when I need more details. Upvote', 'San Francisco CA ... Tonight: Mostly clear, with a low around 55. West wind 16 to 20 ... Tuesday: Sunny, with a high near 68. West southwest wind 9 to 14 ... Tuesday ...', 'NBC Bay Area meteorologists use microclimate weather to bring you local weather forecasts and radar from San Francisco, Oakland and San Jose.', 'San Francisco Weather Forecasts. Weather Underground provides local & long-range weather forecasts, weatherreports, maps & tropical weather conditions for ...', 'See the latest San Francisco weather forecast, current conditions, and live radar. Keep up to date on all San Francisco weather news with KRON4.', 'Top 10 Best 10 Day Weather Forecast Near San Francisco, California · 1. KRON 4 · 2. KTVU 2 News · 3. KGO-TV/DT ABC 7 · 4. Yelp · 5. KPIX CBS 5 News · 6. NBC Bay Area ...', 'Get the latest news stories on current weather conditions and forecasts for the San Francisco Bay Area and surrounding areas.', 'For forecasting, I personally use Weather Underground and my wife uses accuweather, both of which provide hourly updates at local stations. They ...']\u001b[0m\n",
      "Thought:\u001b[32;1m\u001b[1;3m I should use these sources to create a todo list for checking the weather in San Francisco\n",
      "Action: TODO\n",
      "Action Input: \"create a todo list for checking the weather in San Francisco\"\u001b[0m\n",
      "Observation: \u001b[33;1m\u001b[1;3m\n",
      "\n",
      "1. Determine the purpose of checking the weather in San Francisco (e.g. planning a trip, preparing for outdoor activities, etc.)\n",
      "\n",
      "2. Research the best sources for accurate weather information in San Francisco (e.g. local news stations, weather apps, etc.)\n",
      "\n",
      "3. Decide on a preferred method for checking the weather (e.g. daily check-ins, setting up alerts, etc.)\n",
      "\n",
      "4. Create a list of important weather factors to consider (e.g. temperature, precipitation, wind speed, etc.)\n",
      "\n",
      "5. Set a schedule for checking the weather (e.g. every morning, before planning outdoor activities, etc.)\n",
      "\n",
      "6. Determine the level of detail needed (e.g. hourly forecast, 5-day forecast, etc.)\n",
      "\n",
      "7. Consider any potential weather patterns or events that may affect the accuracy of the forecast (e.g. heat waves, storms, etc.)\n",
      "\n",
      "8. Create a system for organizing and tracking weather information (e.g. using a weather app, creating a spreadsheet, etc.)\n",
      "\n",
      "9. Set reminders for checking the weather at designated times (if using a daily check-in method)\n",
      "\n",
      "10. Make note of any important weather updates or changes in the forecast (e.g. sudden temperature drops, severe weather warnings, etc.)\n",
      "\n",
      "11. Plan accordingly based on\u001b[0m\n",
      "Thought:\u001b[32;1m\u001b[1;3m I now know the final answer\n",
      "Final Answer: The best sources for weather information in San Francisco are NWS Forecast Office San Francisco, CA, weather.gov, windy.com, meteoblue.com, NBC Bay Area, and Weather Underground. To effectively check the weather in San Francisco, create a todo list that includes determining the purpose, researching sources, deciding on a preferred method, setting a schedule, considering important factors, accounting for potential weather patterns, organizing and tracking information, setting reminders, and planning accordingly.\u001b[0m\n",
      "\n",
      "\u001b[1m> Finished chain.\u001b[0m\n",
      "\u001b[93m\u001b[1m\n",
      "*****TASK RESULT*****\n",
      "\u001b[0m\u001b[0m\n",
      "The best sources for weather information in San Francisco are NWS Forecast Office San Francisco, CA, weather.gov, windy.com, meteoblue.com, NBC Bay Area, and Weather Underground. To effectively check the weather in San Francisco, create a todo list that includes determining the purpose, researching sources, deciding on a preferred method, setting a schedule, considering important factors, accounting for potential weather patterns, organizing and tracking information, setting reminders, and planning accordingly.\n",
      "\u001b[95m\u001b[1m\n",
      "*****TASK LIST*****\n",
      "\u001b[0m\u001b[0m\n",
      "1: Determine the purpose of the weather report for San Francisco.\n",
      "2: Research and gather information from the NWS Forecast Office San Francisco, CA.\n",
      "3: Research and gather information from weather.gov.\n",
      "4: Research and gather information from windy.com.\n",
      "5: Research and gather information from meteoblue.com.\n",
      "6: Research and gather information from NBC Bay Area.\n",
      "7: Research and gather information from Weather Underground.\n",
      "8: Decide on a preferred method for obtaining weather information.\n",
      "9: Set a schedule for gathering and organizing weather data.\n",
      "10: Consider important factors such as location, time of year, and potential weather patterns.\n",
      "11: Account for potential weather patterns in the report.\n",
      "12: Organize and track all gathered information in a systematic manner.\n",
      "13: Set reminders for important deadlines and tasks.\n",
      "14: Plan accordingly for any potential changes in weather conditions.\n",
      "15: Create a timeline for completing the weather report.\n",
      "16: Determine the format for the weather report.\n",
      "17: Create an outline for the report, including sections for current weather conditions, historical data, and relevant images or graphics.\n",
      "18: Write an attention-grabbing headline and introduction for the report.\n",
      "19: Write a detailed description of the current weather in San Francisco, including temperature, precipitation, and wind\n",
      "\u001b[92m\u001b[1m\n",
      "*****NEXT TASK*****\n",
      "\u001b[0m\u001b[0m\n",
      "1: Determine the purpose of the weather report for San Francisco.\n",
      "\n",
      "\n",
      "\u001b[1m> Entering new AgentExecutor chain...\u001b[0m\n",
      "\u001b[32;1m\u001b[1;3mThought: The purpose of the weather report is to inform people about the current weather conditions in San Francisco.\n",
      "Action: Search\n",
      "Action Input: \"Purpose of weather report for San Francisco\"\u001b[0m\n",
      "Observation: \u001b[36;1m\u001b[1;3m['Northwest winds of 20-30 mph with gusts to 45 mph are forecast through Monday especially across coastal areas of North Bay, parts of the East Bay, gaps, ...', 'The Bay Area is about to trend toward drier and hotter weather in the aftermath of a historically drizzly month.', '10 Day Weather-San Francisco, CA. As of 2:30 pm PDT. Small Craft Advisory. Today. 68°/55°. 1%. Day. 68°. 1%. W 20 mph. Sunny with gusty winds. High 68F.', 'NBC Bay Area meteorologists use microclimate weather to bring you local weather forecasts and radar from San Francisco, Oakland and San Jose.', 'San Francisco, CA Weather Forecast, with current conditions, wind, air quality, and what to expect for the next 3 days.', 'San Francisco Weather Forecasts. Weather Underground provides local & long-range weather forecasts, weatherreports, maps & tropical weather conditions for ...', \"Those seem like really poor measuring devices. Yes it's warmer in certain areas, but the high 80s are likely improperly placed (in direct ...\", '10 Day Weather-San Francisco, CA ; Sun 15 · 63 · Sunshine and clouds mixed. High 63F. Winds W at 15 to 25 mph. ; Mon 16 · 63 · Some clouds in the morning will give ...']\u001b[0m\n",
      "Thought:\u001b[32;1m\u001b[1;3m I should gather information from multiple sources to get a comprehensive understanding of the purpose of the weather report.\n",
      "Action: TODO\n",
      "Action Input: \"Create a todo list for determining the purpose of the weather report for San Francisco\"\u001b[0m\n",
      "Observation: \u001b[33;1m\u001b[1;3m\n",
      "\n",
      "1. Research the purpose of weather reports: Start by understanding the general purpose of weather reports and how they are used by the public. This will provide a foundation for determining the specific purpose for San Francisco.\n",
      "\n",
      "2. Identify the target audience: Determine who the weather report is intended for. Is it for residents of San Francisco, tourists, or a specific industry? This will help tailor the purpose of the report to the needs of the audience.\n",
      "\n",
      "3. Analyze the weather patterns in San Francisco: Look at historical data and current trends to understand the unique weather patterns in San Francisco. This will help determine what information is most important to include in the report.\n",
      "\n",
      "4. Consider the geographical location: San Francisco's location on the coast and its proximity to the ocean can greatly impact its weather. Take this into account when determining the purpose of the report.\n",
      "\n",
      "5. Consult with meteorologists: Reach out to local meteorologists or weather experts to gain insight into the purpose of weather reports for San Francisco. They can provide valuable information and perspectives on the topic.\n",
      "\n",
      "6. Determine the purpose of the report: Based on the research and analysis, determine the specific purpose of the weather report for San Francisco. Is it to inform residents about potential storms, to help tourists plan their trip, or to\u001b[0m\n",
      "Thought:\u001b[32;1m\u001b[1;3m I now have a clear understanding of the purpose of the weather report for San Francisco.\n",
      "Final Answer: The purpose of the weather report for San Francisco is to inform residents and visitors about the current and forecasted weather conditions in the city, taking into account its unique geographical location and weather patterns.\u001b[0m\n",
      "\n",
      "\u001b[1m> Finished chain.\u001b[0m\n",
      "\u001b[93m\u001b[1m\n",
      "*****TASK RESULT*****\n",
      "\u001b[0m\u001b[0m\n",
      "The purpose of the weather report for San Francisco is to inform residents and visitors about the current and forecasted weather conditions in the city, taking into account its unique geographical location and weather patterns.\n",
      "\u001b[91m\u001b[1m\n",
      "*****TASK ENDING*****\n",
      "\u001b[0m\u001b[0m\n"
     ]
    },
    {
     "data": {
      "text/plain": [
       "{'objective': 'Write a weather report for SF today'}"
      ]
     },
     "execution_count": 16,
     "metadata": {},
     "output_type": "execute_result"
    }
   ],
   "source": [
    "baby_agi({\"objective\": OBJECTIVE})"
   ]
  },
  {
   "cell_type": "code",
   "execution_count": null,
   "id": "898a210b",
   "metadata": {},
   "outputs": [],
   "source": []
  }
 ],
 "metadata": {
  "kernelspec": {
   "display_name": "base",
   "language": "python",
   "name": "python3"
  },
  "language_info": {
   "codemirror_mode": {
    "name": "ipython",
    "version": 3
   },
   "file_extension": ".py",
   "mimetype": "text/x-python",
   "name": "python",
   "nbconvert_exporter": "python",
   "pygments_lexer": "ipython3",
   "version": "3.12.7"
  }
 },
 "nbformat": 4,
 "nbformat_minor": 5
}
